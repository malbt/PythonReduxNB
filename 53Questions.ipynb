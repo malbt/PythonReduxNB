{
 "cells": [
  {
   "cell_type": "markdown",
   "metadata": {},
   "source": [
    "# 53 Python Interview Questions and Answers\n",
    "## Python questions for data scientist and software engineers\n",
    "\n",
    "Not so long ago I started a new role as a “Data Scientist” which turned out to be “Python Engineer” in practice.\n",
    "\n",
    "I would have been more prepared if I’d brushed up on Python’s thread lifecycle instead of recommender systems in advance.\n",
    "\n",
    "In that spirit, here are my python interview/job preparation questions and answers. Most data scientists write a lot code so this applies to both scientists and engineers.\n",
    "\n",
    "Whether you’re interviewing candidates, preparing to apply to jobs or just brushing up on Python, I think this list will be invaluable.\n",
    "\n",
    "Questions are unordered. Let’s begin."
   ]
  },
  {
   "cell_type": "markdown",
   "metadata": {},
   "source": [
    "### (1) What is the difference between a list and a tuple?\n",
    "\n",
    "I’ve been asked this question in every python / data science interview I’ve ever had. Know the answer like the back of your hand.\n",
    "\n",
    "- Lists are mutable. They can be modified after creation.\n",
    "- Tuples are immutable. Once a tuple is created it cannot by changed\n",
    "- Lists have order. They are an ordered sequences, typically of the same type of object. Ie: all user names ordered by creation date, [\"Seth\", \"Ema\", \"Eli\"]\n",
    "- Tuples have structure. Different data types may exist at each index. Ie: a database record in memory, (2, \"Ema\", \"2020–04–16\") # id, name, created_at"
   ]
  },
  {
   "cell_type": "markdown",
   "metadata": {},
   "source": [
    "...\n",
    "# A WHOLE BUNCH OF TYPING.\n",
    "..."
   ]
  },
  {
   "cell_type": "markdown",
   "metadata": {},
   "source": [
    "### (53) How is exception handling performed in Python?\n",
    "Python provides 3 words to handle exceptions, *try*, *except* and *finally*.\n",
    "The syntax looks like this.\n"
   ]
  },
  {
   "cell_type": "code",
   "execution_count": 1,
   "metadata": {},
   "outputs": [
    {
     "name": "stdout",
     "output_type": "stream",
     "text": [
      "complete\n",
      "10\n"
     ]
    }
   ],
   "source": [
    "try:\n",
    "    val = 1 + 'A'\n",
    "except:\n",
    "    val = 10\n",
    "finally:\n",
    "    print('complete')\n",
    "    \n",
    "print(val)"
   ]
  },
  {
   "cell_type": "markdown",
   "metadata": {},
   "source": [
    "\n",
    "You're Welcome. Yours Truly, Crazy Uncle Kris."
   ]
  },
  {
   "cell_type": "markdown",
   "metadata": {},
   "source": [
    "### 1. What is the difference between a list and a tuple?"
   ]
  },
  {
   "cell_type": "markdown",
   "metadata": {},
   "source": [
    "Lists are mutable: They can be modified after creation.\n",
    "\n",
    "Tuples are immutable: Once a tuple is created it can anot be cahnged\n",
    "\n",
    "Lists have order:they are an ordered sequences, typically of the same type of object. \n",
    "\n",
    "I.e: all user names orderes by creation date, [\"Seth\", \"Ema\", \"Eli\"]\n",
    "\n",
    "Tuples have structure: Different data types may exist at each index.\n",
    "\n",
    "I.e: a database record in memory, \n",
    "\n",
    "(2, \"Ema\", \"2020-04-16\") #id, name, created_at"
   ]
  },
  {
   "cell_type": "markdown",
   "metadata": {},
   "source": [
    "### 2.How is strin interpolation performed?"
   ]
  },
  {
   "cell_type": "markdown",
   "metadata": {},
   "source": [
    "-> Without importing the template class, there are 3 ways to interpolate strings."
   ]
  },
  {
   "cell_type": "code",
   "execution_count": 2,
   "metadata": {},
   "outputs": [
    {
     "name": "stdout",
     "output_type": "stream",
     "text": [
      "Hello Chris\n",
      "hey Chris Chris\n",
      "My name is Chris\n"
     ]
    }
   ],
   "source": [
    "name = 'Chris'\n",
    "# 1. f strings\n",
    "print(f'Hello {name}')\n",
    "# 2 . % operator\n",
    "print ('hey %s %s' % (name, name))\n",
    "# 3 . format\n",
    "print(\"My name is {}\". format((name)))"
   ]
  },
  {
   "cell_type": "markdown",
   "metadata": {},
   "source": [
    "### 3. What is the difference between \"is\" and \"==\"?"
   ]
  },
  {
   "cell_type": "markdown",
   "metadata": {},
   "source": [
    "###### -> 'is' checks identity and '==' checks equality"
   ]
  },
  {
   "cell_type": "code",
   "execution_count": 3,
   "metadata": {},
   "outputs": [],
   "source": [
    "a = [1,2,3]\n",
    "b = a\n",
    "c = [1,2,3]"
   ]
  },
  {
   "cell_type": "code",
   "execution_count": 4,
   "metadata": {},
   "outputs": [
    {
     "name": "stdout",
     "output_type": "stream",
     "text": [
      "True\n",
      "True\n"
     ]
    }
   ],
   "source": [
    "print(a == b)\n",
    "print(a == c)"
   ]
  },
  {
   "cell_type": "code",
   "execution_count": 5,
   "metadata": {},
   "outputs": [
    {
     "name": "stdout",
     "output_type": "stream",
     "text": [
      "True\n",
      "False\n"
     ]
    }
   ],
   "source": [
    "print(a is b)\n",
    "print(a is c)"
   ]
  },
  {
   "cell_type": "markdown",
   "metadata": {},
   "source": [
    "we can verify this by priniting their object id's"
   ]
  },
  {
   "cell_type": "code",
   "execution_count": 6,
   "metadata": {},
   "outputs": [
    {
     "name": "stdout",
     "output_type": "stream",
     "text": [
      "4591206880\n",
      "4591206880\n",
      "4591201968\n"
     ]
    }
   ],
   "source": [
    "print(id(a))\n",
    "print(id(b))\n",
    "print(id(c))"
   ]
  },
  {
   "cell_type": "markdown",
   "metadata": {},
   "source": [
    "### 4.What is a decorator?"
   ]
  },
  {
   "cell_type": "markdown",
   "metadata": {},
   "source": [
    "A decorator allows adding functionality to an existing function by passing that existing function to a decorator, which executes the existing function as well as additionalcode(function)."
   ]
  },
  {
   "cell_type": "code",
   "execution_count": 24,
   "metadata": {},
   "outputs": [
    {
     "name": "stdout",
     "output_type": "stream",
     "text": [
      "The function called executed: \n",
      "Why does Python live on land?\n",
      " Because its abpove C level\n"
     ]
    }
   ],
   "source": [
    "def memes():\n",
    "    print('Why does Python live on land?\\n Because its abpove C level')\n",
    "    \n",
    "def head_fun(designated_function):\n",
    "    def nested_fun():\n",
    "        print(\"The function called executed: \")\n",
    "        return designated_function()\n",
    "    return nested_fun\n",
    "so = head_fun(memes)\n",
    "\n",
    "so()\n",
    "\n"
   ]
  },
  {
   "cell_type": "code",
   "execution_count": 25,
   "metadata": {},
   "outputs": [
    {
     "name": "stdout",
     "output_type": "stream",
     "text": [
      "The function called executed: \n",
      "chris\n",
      "<function head_fun.<locals>.nested_fun at 0x106a0d7a0> called.\n",
      "look for more example on decorators\n"
     ]
    }
   ],
   "source": [
    "@head_fun\n",
    "def idk():\n",
    "    print(\"chris\")\n",
    "    print(f'{idk} called.')\n",
    "    print(\"look for more example on decorators\")\n",
    "idk()"
   ]
  },
  {
   "cell_type": "code",
   "execution_count": 26,
   "metadata": {},
   "outputs": [],
   "source": [
    "def lhead_fun(func):\n",
    "  def log_function_called():\n",
    "    print(f'{func} called.')\n",
    "    print(\"this is orginal example\")\n",
    "    func()\n",
    "  return log_function_called"
   ]
  },
  {
   "cell_type": "code",
   "execution_count": 27,
   "metadata": {
    "scrolled": true
   },
   "outputs": [
    {
     "name": "stdout",
     "output_type": "stream",
     "text": [
      "<function idk at 0x106951830> called.\n",
      "this is orginal example\n",
      "chris\n"
     ]
    }
   ],
   "source": [
    "@lhead_fun\n",
    "def idk():\n",
    "    print(\"chris\")\n",
    "idk()"
   ]
  },
  {
   "cell_type": "markdown",
   "metadata": {},
   "source": [
    "### 5.Explain the range function."
   ]
  },
  {
   "cell_type": "markdown",
   "metadata": {},
   "source": [
    "Range generates a list of integers.\n",
    "Three ways to use range function ->"
   ]
  },
  {
   "cell_type": "markdown",
   "metadata": {},
   "source": [
    "##### ex-1. range(stop): generate integers from 0 to the \"stop\" integer.\n",
    "range(10)"
   ]
  },
  {
   "cell_type": "markdown",
   "metadata": {},
   "source": [
    "The function takes 1 to 3 arguments. In the examples below, it's wrapped in a list comprehension so we can see the values generated."
   ]
  },
  {
   "cell_type": "code",
   "execution_count": 7,
   "metadata": {},
   "outputs": [
    {
     "data": {
      "text/plain": [
       "[0, 1, 2, 3, 4, 5, 6, 7, 8, 9]"
      ]
     },
     "execution_count": 7,
     "metadata": {},
     "output_type": "execute_result"
    }
   ],
   "source": [
    "# 1.range(stop)\n",
    "[i for i in range(10)]"
   ]
  },
  {
   "cell_type": "markdown",
   "metadata": {},
   "source": [
    "##### ex-2. range(start, stop ): generate integeres from the \"start\" to the \"stop\"."
   ]
  },
  {
   "cell_type": "code",
   "execution_count": 11,
   "metadata": {},
   "outputs": [
    {
     "data": {
      "text/plain": [
       "[2, 3, 4, 5, 6, 7, 8, 9]"
      ]
     },
     "execution_count": 11,
     "metadata": {},
     "output_type": "execute_result"
    }
   ],
   "source": [
    "[i for i in range (2,10)]"
   ]
  },
  {
   "cell_type": "markdown",
   "metadata": {},
   "source": [
    "##### ex-3.range(strat, stop, step): generate integers from \"start\" to \"stop\" at intervals of \"step\"."
   ]
  },
  {
   "cell_type": "code",
   "execution_count": 12,
   "metadata": {},
   "outputs": [
    {
     "data": {
      "text/plain": [
       "[2, 4, 6, 8, 10, 12, 14, 16, 18]"
      ]
     },
     "execution_count": 12,
     "metadata": {},
     "output_type": "execute_result"
    }
   ],
   "source": [
    "[i for i in range(2, 20, 2)]"
   ]
  },
  {
   "cell_type": "markdown",
   "metadata": {},
   "source": [
    "### 6.Define a class named car with 2 properties, \"color\" and \"speed\". Then create an instance and return speed."
   ]
  },
  {
   "cell_type": "code",
   "execution_count": 15,
   "metadata": {},
   "outputs": [
    {
     "data": {
      "text/plain": [
       "'100mph'"
      ]
     },
     "execution_count": 15,
     "metadata": {},
     "output_type": "execute_result"
    }
   ],
   "source": [
    "class Car:\n",
    "    def __init__(self, color, speed):\n",
    "        self.color = color\n",
    "        self.speed = speed\n",
    "car = Car('red', '100mph')\n",
    "car.speed"
   ]
  },
  {
   "cell_type": "markdown",
   "metadata": {},
   "source": [
    "### 7.What is the difference between instance, static, and class methods in python?"
   ]
  },
  {
   "cell_type": "markdown",
   "metadata": {},
   "source": [
    "#### instance methods :\n",
    "accept self parameter  and  relate  to  a specific instance of the class."
   ]
  },
  {
   "cell_type": "markdown",
   "metadata": {},
   "source": [
    "#### Static methods:\n",
    "use @staticmethod decorator, are not related to a specififc instance, and are self-conained(don't modify class or instance properties)"
   ]
  },
  {
   "cell_type": "markdown",
   "metadata": {},
   "source": [
    "#### Class methods :\n",
    "accept cls parameter and can modify the class itself."
   ]
  },
  {
   "cell_type": "markdown",
   "metadata": {},
   "source": [
    "Example: fictional CoffeShop class."
   ]
  },
  {
   "cell_type": "code",
   "execution_count": 11,
   "metadata": {},
   "outputs": [],
   "source": [
    "class CoffeeShop:\n",
    "    speciality = 'espresso'\n",
    "    \n",
    "    def __init__(self, coffee_price):\n",
    "        self.coffee_price = coffee_price\n",
    "        \n",
    "    # instance method \n",
    "    def make_coffee(self):\n",
    "        print(f'making {self.speciality} for ${self.coffee_price}')\n",
    "        \n",
    "    #static method\n",
    "    @staticmethod\n",
    "    def check_weather():\n",
    "        print('Its sunny')\n",
    "        \n",
    "    # class method\n",
    "    @classmethod\n",
    "    def change_speciality(cls, speciality):\n",
    "        cls.speciality = speciality \n",
    "        print(f'Speciality changed to {speciality}')"
   ]
  },
  {
   "cell_type": "code",
   "execution_count": 12,
   "metadata": {},
   "outputs": [
    {
     "name": "stdout",
     "output_type": "stream",
     "text": [
      "making espresso for $5\n"
     ]
    }
   ],
   "source": [
    "coffee_shop = CoffeeShop('5')\n",
    "coffee_shop.make_coffee()\n"
   ]
  },
  {
   "cell_type": "code",
   "execution_count": 13,
   "metadata": {},
   "outputs": [
    {
     "name": "stdout",
     "output_type": "stream",
     "text": [
      "Its sunny\n"
     ]
    }
   ],
   "source": [
    "coffee_shop.check_weather()"
   ]
  },
  {
   "cell_type": "code",
   "execution_count": 14,
   "metadata": {},
   "outputs": [
    {
     "name": "stdout",
     "output_type": "stream",
     "text": [
      "Speciality changed to drip coffee\n"
     ]
    }
   ],
   "source": [
    "coffee_shop.change_speciality('drip coffee')"
   ]
  },
  {
   "cell_type": "code",
   "execution_count": 15,
   "metadata": {},
   "outputs": [
    {
     "name": "stdout",
     "output_type": "stream",
     "text": [
      "making drip coffee for $5\n"
     ]
    }
   ],
   "source": [
    "coffee_shop.make_coffee()"
   ]
  },
  {
   "cell_type": "markdown",
   "metadata": {},
   "source": [
    "### 8. what is the difference between \"func\" and \"func()\"?"
   ]
  },
  {
   "cell_type": "code",
   "execution_count": 16,
   "metadata": {},
   "outputs": [
    {
     "name": "stdout",
     "output_type": "stream",
     "text": [
      "I am a function!\n"
     ]
    }
   ],
   "source": [
    "def func():\n",
    "    print('I am a function!')\n",
    "\n",
    "func\n",
    "func()"
   ]
  },
  {
   "cell_type": "code",
   "execution_count": 17,
   "metadata": {},
   "outputs": [
    {
     "data": {
      "text/plain": [
       "<function __main__.func()>"
      ]
     },
     "execution_count": 17,
     "metadata": {},
     "output_type": "execute_result"
    }
   ],
   "source": [
    "func"
   ]
  },
  {
   "cell_type": "markdown",
   "metadata": {},
   "source": [
    "func is the object representing the function which can be assigned to a variable or passed to another function. func() whith parentheses calls the function and returns what it outputs."
   ]
  },
  {
   "cell_type": "markdown",
   "metadata": {},
   "source": [
    "### 9.Explain how the map function works."
   ]
  },
  {
   "cell_type": "markdown",
   "metadata": {},
   "source": [
    "map returns a list made up of the returned values from applying a function to every element in a sequence."
   ]
  },
  {
   "cell_type": "code",
   "execution_count": 21,
   "metadata": {},
   "outputs": [
    {
     "data": {
      "text/plain": [
       "[4, 5, 6]"
      ]
     },
     "execution_count": 21,
     "metadata": {},
     "output_type": "execute_result"
    }
   ],
   "source": [
    "def add_three(x):\n",
    "    return x + 3\n",
    "li = [1, 2, 3]\n",
    "\n",
    "[i for i in map(add_three, li)]"
   ]
  },
  {
   "cell_type": "markdown",
   "metadata": {},
   "source": [
    "Above, we added 3 to every element in the list."
   ]
  },
  {
   "cell_type": "markdown",
   "metadata": {},
   "source": [
    "### 10.Explain how the reduce function works."
   ]
  },
  {
   "cell_type": "markdown",
   "metadata": {},
   "source": [
    "#### reduce\n",
    "takes a function and sequence and iterates over that sequence.On each iteration, both the current and output from the previous element are passed to the function. In the end, a single value is returned."
   ]
  },
  {
   "cell_type": "code",
   "execution_count": 5,
   "metadata": {},
   "outputs": [
    {
     "data": {
      "text/plain": [
       "15"
      ]
     },
     "execution_count": 5,
     "metadata": {},
     "output_type": "execute_result"
    }
   ],
   "source": [
    "from functools import reduce\n",
    "\n",
    "def add_three(x, y):\n",
    "    return x + y\n",
    "\n",
    "li = [1, 2, 3, 4, 5]\n",
    "\n",
    "reduce(add_three, li)"
   ]
  },
  {
   "cell_type": "code",
   "execution_count": 7,
   "metadata": {},
   "outputs": [
    {
     "data": {
      "text/plain": [
       "15"
      ]
     },
     "execution_count": 7,
     "metadata": {},
     "output_type": "execute_result"
    }
   ],
   "source": [
    "total = sum(li)\n",
    "total"
   ]
  },
  {
   "cell_type": "markdown",
   "metadata": {},
   "source": [
    "### 11.Explain how the filter function works."
   ]
  },
  {
   "cell_type": "markdown",
   "metadata": {},
   "source": [
    "Each element is passed to a fucntion which is returned in the outputted sequence if the function returns True and discarded if thr function is False."
   ]
  },
  {
   "cell_type": "code",
   "execution_count": 10,
   "metadata": {},
   "outputs": [
    {
     "data": {
      "text/plain": [
       "[2, 4, 6, 8, 8]"
      ]
     },
     "execution_count": 10,
     "metadata": {},
     "output_type": "execute_result"
    }
   ],
   "source": [
    "def add_three(x):\n",
    "    if x%2 ==0:\n",
    "        return True\n",
    "    else: \n",
    "        return False\n",
    "    \n",
    "li = [1, 2, 3, 4, 5, 6, 7, 8, 8, 9]\n",
    "\n",
    "[i for i in filter(add_three, li)]\n",
    "# note how all elements not divisible by 2 have been removed."
   ]
  },
  {
   "cell_type": "markdown",
   "metadata": {},
   "source": [
    "Note how all elements not divisible by 2 have been removed."
   ]
  },
  {
   "cell_type": "markdown",
   "metadata": {},
   "source": [
    "### 12.Does python call by reference or call by value?"
   ]
  },
  {
   "cell_type": "markdown",
   "metadata": {},
   "source": [
    "Immutable objects like strings, numbers and tuples are call-by- value. Notice how the value 'name' didn't change outside the function when modified inside. The value of 'name' was assigned to a new block in memory for the scope of that function."
   ]
  },
  {
   "cell_type": "code",
   "execution_count": 13,
   "metadata": {},
   "outputs": [
    {
     "name": "stdout",
     "output_type": "stream",
     "text": [
      "chris\n",
      "chr\n"
     ]
    }
   ],
   "source": [
    "name = 'chr'\n",
    "\n",
    "def add_chars(s):\n",
    "    s += 'is'\n",
    "    print(s)\n",
    "add_chars(name)\n",
    "print(name)"
   ]
  },
  {
   "cell_type": "markdown",
   "metadata": {},
   "source": [
    "Mutable objects likelist are call-by-reference. Notice how the list defined outside the function was modified inside the function. The parameter in the function pointed to the orginal block in memory that stored the value of li."
   ]
  },
  {
   "cell_type": "code",
   "execution_count": 16,
   "metadata": {},
   "outputs": [
    {
     "name": "stdout",
     "output_type": "stream",
     "text": [
      "[1, 2, 3]\n",
      "[1, 2, 3]\n"
     ]
    }
   ],
   "source": [
    "li = [1, 2]\n",
    "def add_element(seq):\n",
    "    seq.append(3)\n",
    "    print(seq)\n",
    "    \n",
    "add_element(li)\n",
    "print(li)"
   ]
  },
  {
   "cell_type": "markdown",
   "metadata": {},
   "source": [
    "### 13.How to reverse a list?"
   ]
  },
  {
   "cell_type": "markdown",
   "metadata": {},
   "source": [
    "Note how to reverse() is called on the list and mutates it. It doesn't return the mutataed list itself."
   ]
  },
  {
   "cell_type": "code",
   "execution_count": 19,
   "metadata": {},
   "outputs": [
    {
     "name": "stdout",
     "output_type": "stream",
     "text": [
      "['a', 'b', 'c']\n",
      "['c', 'b', 'a']\n"
     ]
    }
   ],
   "source": [
    "li = ['a', 'b', 'c']\n",
    "print(li)\n",
    "li.reverse()\n",
    "print(li)"
   ]
  },
  {
   "cell_type": "markdown",
   "metadata": {},
   "source": [
    "### 14.How does string multiplication work?\n",
    "Let's see the results of multiplying the string 'cat' by 3."
   ]
  },
  {
   "cell_type": "code",
   "execution_count": 20,
   "metadata": {},
   "outputs": [
    {
     "data": {
      "text/plain": [
       "'catcatcat'"
      ]
     },
     "execution_count": 20,
     "metadata": {},
     "output_type": "execute_result"
    }
   ],
   "source": [
    "'cat' * 3"
   ]
  },
  {
   "cell_type": "markdown",
   "metadata": {},
   "source": [
    "### 15.How does list multiplication work?\n",
    "Let's see the result of multiplying a list, [1, 2, 3] by 2."
   ]
  },
  {
   "cell_type": "code",
   "execution_count": 21,
   "metadata": {},
   "outputs": [
    {
     "data": {
      "text/plain": [
       "[1, 2, 3, 1, 2, 3]"
      ]
     },
     "execution_count": 21,
     "metadata": {},
     "output_type": "execute_result"
    }
   ],
   "source": [
    "[1, 2, 3] * 2"
   ]
  },
  {
   "cell_type": "markdown",
   "metadata": {},
   "source": [
    "A list is outputted containing the contents of [1, 2, 3] repeated twice."
   ]
  },
  {
   "cell_type": "markdown",
   "metadata": {},
   "source": [
    "### 16.What does \"self\" refer to in a class?"
   ]
  },
  {
   "cell_type": "code",
   "execution_count": null,
   "metadata": {},
   "outputs": [],
   "source": []
  }
 ],
 "metadata": {
  "kernelspec": {
   "display_name": "Python 3",
   "language": "python",
   "name": "python3"
  },
  "language_info": {
   "codemirror_mode": {
    "name": "ipython",
    "version": 3
   },
   "file_extension": ".py",
   "mimetype": "text/x-python",
   "name": "python",
   "nbconvert_exporter": "python",
   "pygments_lexer": "ipython3",
   "version": "3.7.4"
  }
 },
 "nbformat": 4,
 "nbformat_minor": 4
}
