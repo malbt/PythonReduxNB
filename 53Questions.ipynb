{
 "cells": [
  {
   "cell_type": "code",
   "execution_count": 8,
   "metadata": {},
   "outputs": [],
   "source": [
    "import pickle"
   ]
  },
  {
   "cell_type": "markdown",
   "metadata": {},
   "source": [
    "# 53 Python Interview Questions and Answers\n",
    "## Python questions for data scientist and software engineers\n",
    "\n",
    "Not so long ago I started a new role as a “Data Scientist” which turned out to be “Python Engineer” in practice.\n",
    "\n",
    "I would have been more prepared if I’d brushed up on Python’s thread lifecycle instead of recommender systems in advance.\n",
    "\n",
    "In that spirit, here are my python interview/job preparation questions and answers. Most data scientists write a lot code so this applies to both scientists and engineers.\n",
    "\n",
    "Whether you’re interviewing candidates, preparing to apply to jobs or just brushing up on Python, I think this list will be invaluable.\n",
    "\n",
    "Questions are unordered. Let’s begin."
   ]
  },
  {
   "cell_type": "markdown",
   "metadata": {},
   "source": [
    "### (1) What is the difference between a list and a tuple?\n",
    "\n",
    "I’ve been asked this question in every python / data science interview I’ve ever had. Know the answer like the back of your hand.\n",
    "\n",
    "- Lists are mutable. They can be modified after creation.\n",
    "- Tuples are immutable. Once a tuple is created it cannot by changed\n",
    "- Lists have order. They are an ordered sequences, typically of the same type of object. Ie: all user names ordered by creation date, [\"Seth\", \"Ema\", \"Eli\"]\n",
    "- Tuples have structure. Different data types may exist at each index. Ie: a database record in memory, (2, \"Ema\", \"2020–04–16\") # id, name, created_at"
   ]
  },
  {
   "cell_type": "markdown",
   "metadata": {},
   "source": [
    "...\n",
    "# A WHOLE BUNCH OF TYPING.\n",
    "..."
   ]
  },
  {
   "cell_type": "markdown",
   "metadata": {},
   "source": [
    "### (53) How is exception handling performed in Python?\n",
    "Python provides 3 words to handle exceptions, *try*, *except* and *finally*.\n",
    "The syntax looks like this.\n"
   ]
  },
  {
   "cell_type": "code",
   "execution_count": 1,
   "metadata": {},
   "outputs": [
    {
     "name": "stdout",
     "output_type": "stream",
     "text": [
      "complete\n",
      "10\n"
     ]
    }
   ],
   "source": [
    "try:\n",
    "    val = 1 + 'A'\n",
    "except:\n",
    "    val = 10\n",
    "finally:\n",
    "    print('complete')\n",
    "    \n",
    "print(val)"
   ]
  },
  {
   "cell_type": "markdown",
   "metadata": {},
   "source": [
    "\n",
    "You're Welcome. Yours Truly, Crazy Uncle Kris."
   ]
  },
  {
   "cell_type": "markdown",
   "metadata": {},
   "source": [
    "### 1. What is the difference between a list and a tuple?"
   ]
  },
  {
   "cell_type": "markdown",
   "metadata": {},
   "source": [
    "Lists are mutable: They can be modified after creation.\n",
    "\n",
    "Tuples are immutable: Once a tuple is created it can anot be cahnged\n",
    "\n",
    "Lists have order:they are an ordered sequences, typically of the same type of object. \n",
    "\n",
    "I.e: all user names orderes by creation date, [\"Seth\", \"Ema\", \"Eli\"]\n",
    "\n",
    "Tuples have structure: Different data types may exist at each index.\n",
    "\n",
    "I.e: a database record in memory, \n",
    "\n",
    "(2, \"Ema\", \"2020-04-16\") #id, name, created_at"
   ]
  },
  {
   "cell_type": "markdown",
   "metadata": {},
   "source": [
    "### 2.How is strin interpolation performed?"
   ]
  },
  {
   "cell_type": "markdown",
   "metadata": {},
   "source": [
    "-> Without importing the template class, there are 3 ways to interpolate strings."
   ]
  },
  {
   "cell_type": "code",
   "execution_count": 2,
   "metadata": {},
   "outputs": [
    {
     "name": "stdout",
     "output_type": "stream",
     "text": [
      "Hello Chris\n",
      "hey Chris Chris\n",
      "My name is Chris\n"
     ]
    }
   ],
   "source": [
    "name = 'Chris'\n",
    "# 1. f strings\n",
    "print(f'Hello {name}')\n",
    "# 2 . % operator\n",
    "print ('hey %s %s' % (name, name))\n",
    "# 3 . format\n",
    "print(\"My name is {}\". format((name)))"
   ]
  },
  {
   "cell_type": "markdown",
   "metadata": {},
   "source": [
    "### 3. What is the difference between \"is\" and \"==\"?"
   ]
  },
  {
   "cell_type": "markdown",
   "metadata": {},
   "source": [
    "###### -> 'is' checks identity and '==' checks equality"
   ]
  },
  {
   "cell_type": "code",
   "execution_count": 3,
   "metadata": {},
   "outputs": [],
   "source": [
    "a = [1,2,3]\n",
    "b = a\n",
    "c = [1,2,3]"
   ]
  },
  {
   "cell_type": "code",
   "execution_count": 4,
   "metadata": {},
   "outputs": [
    {
     "name": "stdout",
     "output_type": "stream",
     "text": [
      "True\n",
      "True\n"
     ]
    }
   ],
   "source": [
    "print(a == b)\n",
    "print(a == c)"
   ]
  },
  {
   "cell_type": "code",
   "execution_count": 5,
   "metadata": {},
   "outputs": [
    {
     "name": "stdout",
     "output_type": "stream",
     "text": [
      "True\n",
      "False\n"
     ]
    }
   ],
   "source": [
    "print(a is b)\n",
    "print(a is c)"
   ]
  },
  {
   "cell_type": "markdown",
   "metadata": {},
   "source": [
    "we can verify this by priniting their object id's"
   ]
  },
  {
   "cell_type": "code",
   "execution_count": 6,
   "metadata": {},
   "outputs": [
    {
     "name": "stdout",
     "output_type": "stream",
     "text": [
      "4591206880\n",
      "4591206880\n",
      "4591201968\n"
     ]
    }
   ],
   "source": [
    "print(id(a))\n",
    "print(id(b))\n",
    "print(id(c))"
   ]
  },
  {
   "cell_type": "markdown",
   "metadata": {},
   "source": [
    "### 4.What is a decorator?"
   ]
  },
  {
   "cell_type": "markdown",
   "metadata": {},
   "source": [
    "A decorator allows adding functionality to an existing function by passing that existing function to a decorator, which executes the existing function as well as additionalcode(function)."
   ]
  },
  {
   "cell_type": "code",
   "execution_count": 24,
   "metadata": {},
   "outputs": [
    {
     "name": "stdout",
     "output_type": "stream",
     "text": [
      "The function called executed: \n",
      "Why does Python live on land?\n",
      " Because its abpove C level\n"
     ]
    }
   ],
   "source": [
    "def memes():\n",
    "    print('Why does Python live on land?\\n Because its abpove C level')\n",
    "    \n",
    "def head_fun(designated_function):\n",
    "    def nested_fun():\n",
    "        print(\"The function called executed: \")\n",
    "        return designated_function()\n",
    "    return nested_fun\n",
    "so = head_fun(memes)\n",
    "\n",
    "so()\n",
    "\n"
   ]
  },
  {
   "cell_type": "code",
   "execution_count": 25,
   "metadata": {},
   "outputs": [
    {
     "name": "stdout",
     "output_type": "stream",
     "text": [
      "The function called executed: \n",
      "chris\n",
      "<function head_fun.<locals>.nested_fun at 0x106a0d7a0> called.\n",
      "look for more example on decorators\n"
     ]
    }
   ],
   "source": [
    "@head_fun\n",
    "def idk():\n",
    "    print(\"chris\")\n",
    "    print(f'{idk} called.')\n",
    "    print(\"look for more example on decorators\")\n",
    "idk()"
   ]
  },
  {
   "cell_type": "code",
   "execution_count": 26,
   "metadata": {},
   "outputs": [],
   "source": [
    "def lhead_fun(func):\n",
    "  def log_function_called():\n",
    "    print(f'{func} called.')\n",
    "    print(\"this is orginal example\")\n",
    "    func()\n",
    "  return log_function_called"
   ]
  },
  {
   "cell_type": "code",
   "execution_count": 27,
   "metadata": {
    "scrolled": true
   },
   "outputs": [
    {
     "name": "stdout",
     "output_type": "stream",
     "text": [
      "<function idk at 0x106951830> called.\n",
      "this is orginal example\n",
      "chris\n"
     ]
    }
   ],
   "source": [
    "@lhead_fun\n",
    "def idk():\n",
    "    print(\"chris\")\n",
    "idk()"
   ]
  },
  {
   "cell_type": "markdown",
   "metadata": {},
   "source": [
    "### 5.Explain the range function."
   ]
  },
  {
   "cell_type": "markdown",
   "metadata": {},
   "source": [
    "Range generates a list of integers.\n",
    "Three ways to use range function ->"
   ]
  },
  {
   "cell_type": "markdown",
   "metadata": {},
   "source": [
    "##### ex-1. range(stop): generate integers from 0 to the \"stop\" integer.\n",
    "range(10)"
   ]
  },
  {
   "cell_type": "markdown",
   "metadata": {},
   "source": [
    "The function takes 1 to 3 arguments. In the examples below, it's wrapped in a list comprehension so we can see the values generated."
   ]
  },
  {
   "cell_type": "code",
   "execution_count": 7,
   "metadata": {},
   "outputs": [
    {
     "data": {
      "text/plain": [
       "[0, 1, 2, 3, 4, 5, 6, 7, 8, 9]"
      ]
     },
     "execution_count": 7,
     "metadata": {},
     "output_type": "execute_result"
    }
   ],
   "source": [
    "# 1.range(stop)\n",
    "[i for i in range(10)]"
   ]
  },
  {
   "cell_type": "markdown",
   "metadata": {},
   "source": [
    "##### ex-2. range(start, stop ): generate integeres from the \"start\" to the \"stop\"."
   ]
  },
  {
   "cell_type": "code",
   "execution_count": 11,
   "metadata": {},
   "outputs": [
    {
     "data": {
      "text/plain": [
       "[2, 3, 4, 5, 6, 7, 8, 9]"
      ]
     },
     "execution_count": 11,
     "metadata": {},
     "output_type": "execute_result"
    }
   ],
   "source": [
    "[i for i in range (2,10)]"
   ]
  },
  {
   "cell_type": "markdown",
   "metadata": {},
   "source": [
    "##### ex-3.range(strat, stop, step): generate integers from \"start\" to \"stop\" at intervals of \"step\"."
   ]
  },
  {
   "cell_type": "code",
   "execution_count": 12,
   "metadata": {},
   "outputs": [
    {
     "data": {
      "text/plain": [
       "[2, 4, 6, 8, 10, 12, 14, 16, 18]"
      ]
     },
     "execution_count": 12,
     "metadata": {},
     "output_type": "execute_result"
    }
   ],
   "source": [
    "[i for i in range(2, 20, 2)]"
   ]
  },
  {
   "cell_type": "markdown",
   "metadata": {},
   "source": [
    "### 6.Define a class named car with 2 properties, \"color\" and \"speed\". Then create an instance and return speed."
   ]
  },
  {
   "cell_type": "code",
   "execution_count": 15,
   "metadata": {},
   "outputs": [
    {
     "data": {
      "text/plain": [
       "'100mph'"
      ]
     },
     "execution_count": 15,
     "metadata": {},
     "output_type": "execute_result"
    }
   ],
   "source": [
    "class Car:\n",
    "    def __init__(self, color, speed):\n",
    "        self.color = color\n",
    "        self.speed = speed\n",
    "car = Car('red', '100mph')\n",
    "car.speed"
   ]
  },
  {
   "cell_type": "markdown",
   "metadata": {},
   "source": [
    "### 7.What is the difference between instance, static, and class methods in python?"
   ]
  },
  {
   "cell_type": "markdown",
   "metadata": {},
   "source": [
    "#### instance methods :\n",
    "accept self parameter  and  relate  to  a specific instance of the class."
   ]
  },
  {
   "cell_type": "markdown",
   "metadata": {},
   "source": [
    "#### Static methods:\n",
    "use @staticmethod decorator, are not related to a specififc instance, and are self-conained(don't modify class or instance properties)"
   ]
  },
  {
   "cell_type": "markdown",
   "metadata": {},
   "source": [
    "#### Class methods :\n",
    "accept cls parameter and can modify the class itself."
   ]
  },
  {
   "cell_type": "markdown",
   "metadata": {},
   "source": [
    "Example: fictional CoffeShop class."
   ]
  },
  {
   "cell_type": "code",
   "execution_count": 11,
   "metadata": {},
   "outputs": [],
   "source": [
    "class CoffeeShop:\n",
    "    speciality = 'espresso'\n",
    "    \n",
    "    def __init__(self, coffee_price):\n",
    "        self.coffee_price = coffee_price\n",
    "        \n",
    "    # instance method \n",
    "    def make_coffee(self):\n",
    "        print(f'making {self.speciality} for ${self.coffee_price}')\n",
    "        \n",
    "    #static method\n",
    "    @staticmethod\n",
    "    def check_weather():\n",
    "        print('Its sunny')\n",
    "        \n",
    "    # class method\n",
    "    @classmethod\n",
    "    def change_speciality(cls, speciality):\n",
    "        cls.speciality = speciality \n",
    "        print(f'Speciality changed to {speciality}')"
   ]
  },
  {
   "cell_type": "code",
   "execution_count": 12,
   "metadata": {},
   "outputs": [
    {
     "name": "stdout",
     "output_type": "stream",
     "text": [
      "making espresso for $5\n"
     ]
    }
   ],
   "source": [
    "coffee_shop = CoffeeShop('5')\n",
    "coffee_shop.make_coffee()\n"
   ]
  },
  {
   "cell_type": "code",
   "execution_count": 13,
   "metadata": {},
   "outputs": [
    {
     "name": "stdout",
     "output_type": "stream",
     "text": [
      "Its sunny\n"
     ]
    }
   ],
   "source": [
    "coffee_shop.check_weather()"
   ]
  },
  {
   "cell_type": "code",
   "execution_count": 14,
   "metadata": {},
   "outputs": [
    {
     "name": "stdout",
     "output_type": "stream",
     "text": [
      "Speciality changed to drip coffee\n"
     ]
    }
   ],
   "source": [
    "coffee_shop.change_speciality('drip coffee')"
   ]
  },
  {
   "cell_type": "code",
   "execution_count": 15,
   "metadata": {},
   "outputs": [
    {
     "name": "stdout",
     "output_type": "stream",
     "text": [
      "making drip coffee for $5\n"
     ]
    }
   ],
   "source": [
    "coffee_shop.make_coffee()"
   ]
  },
  {
   "cell_type": "markdown",
   "metadata": {},
   "source": [
    "### 8. what is the difference between \"func\" and \"func()\"?"
   ]
  },
  {
   "cell_type": "code",
   "execution_count": 16,
   "metadata": {},
   "outputs": [
    {
     "name": "stdout",
     "output_type": "stream",
     "text": [
      "I am a function!\n"
     ]
    }
   ],
   "source": [
    "def func():\n",
    "    print('I am a function!')\n",
    "\n",
    "func\n",
    "func()"
   ]
  },
  {
   "cell_type": "code",
   "execution_count": 17,
   "metadata": {},
   "outputs": [
    {
     "data": {
      "text/plain": [
       "<function __main__.func()>"
      ]
     },
     "execution_count": 17,
     "metadata": {},
     "output_type": "execute_result"
    }
   ],
   "source": [
    "func"
   ]
  },
  {
   "cell_type": "markdown",
   "metadata": {},
   "source": [
    "func is the object representing the function which can be assigned to a variable or passed to another function. func() whith parentheses calls the function and returns what it outputs."
   ]
  },
  {
   "cell_type": "markdown",
   "metadata": {},
   "source": [
    "### 9.Explain how the map function works."
   ]
  },
  {
   "cell_type": "markdown",
   "metadata": {},
   "source": [
    "map returns a list made up of the returned values from applying a function to every element in a sequence."
   ]
  },
  {
   "cell_type": "code",
   "execution_count": 21,
   "metadata": {},
   "outputs": [
    {
     "data": {
      "text/plain": [
       "[4, 5, 6]"
      ]
     },
     "execution_count": 21,
     "metadata": {},
     "output_type": "execute_result"
    }
   ],
   "source": [
    "def add_three(x):\n",
    "    return x + 3\n",
    "li = [1, 2, 3]\n",
    "\n",
    "[i for i in map(add_three, li)]"
   ]
  },
  {
   "cell_type": "markdown",
   "metadata": {},
   "source": [
    "Above, we added 3 to every element in the list."
   ]
  },
  {
   "cell_type": "markdown",
   "metadata": {},
   "source": [
    "### 10.Explain how the reduce function works."
   ]
  },
  {
   "cell_type": "markdown",
   "metadata": {},
   "source": [
    "#### reduce\n",
    "takes a function and sequence and iterates over that sequence.On each iteration, both the current and output from the previous element are passed to the function. In the end, a single value is returned."
   ]
  },
  {
   "cell_type": "code",
   "execution_count": 5,
   "metadata": {},
   "outputs": [
    {
     "data": {
      "text/plain": [
       "15"
      ]
     },
     "execution_count": 5,
     "metadata": {},
     "output_type": "execute_result"
    }
   ],
   "source": [
    "from functools import reduce\n",
    "\n",
    "def add_three(x, y):\n",
    "    return x + y\n",
    "\n",
    "li = [1, 2, 3, 4, 5]\n",
    "\n",
    "reduce(add_three, li)"
   ]
  },
  {
   "cell_type": "code",
   "execution_count": 7,
   "metadata": {},
   "outputs": [
    {
     "data": {
      "text/plain": [
       "15"
      ]
     },
     "execution_count": 7,
     "metadata": {},
     "output_type": "execute_result"
    }
   ],
   "source": [
    "total = sum(li)\n",
    "total"
   ]
  },
  {
   "cell_type": "markdown",
   "metadata": {},
   "source": [
    "### 11.Explain how the filter function works."
   ]
  },
  {
   "cell_type": "markdown",
   "metadata": {},
   "source": [
    "Each element is passed to a fucntion which is returned in the outputted sequence if the function returns True and discarded if thr function is False."
   ]
  },
  {
   "cell_type": "code",
   "execution_count": 10,
   "metadata": {},
   "outputs": [
    {
     "data": {
      "text/plain": [
       "[2, 4, 6, 8, 8]"
      ]
     },
     "execution_count": 10,
     "metadata": {},
     "output_type": "execute_result"
    }
   ],
   "source": [
    "def add_three(x):\n",
    "    if x%2 ==0:\n",
    "        return True\n",
    "    else: \n",
    "        return False\n",
    "    \n",
    "li = [1, 2, 3, 4, 5, 6, 7, 8, 8, 9]\n",
    "\n",
    "[i for i in filter(add_three, li)]\n",
    "# note how all elements not divisible by 2 have been removed."
   ]
  },
  {
   "cell_type": "markdown",
   "metadata": {},
   "source": [
    "Note how all elements not divisible by 2 have been removed."
   ]
  },
  {
   "cell_type": "markdown",
   "metadata": {},
   "source": [
    "### 12.Does python call by reference or call by value?"
   ]
  },
  {
   "cell_type": "markdown",
   "metadata": {},
   "source": [
    "Immutable objects like strings, numbers and tuples are call-by- value. Notice how the value 'name' didn't change outside the function when modified inside. The value of 'name' was assigned to a new block in memory for the scope of that function."
   ]
  },
  {
   "cell_type": "code",
   "execution_count": 13,
   "metadata": {},
   "outputs": [
    {
     "name": "stdout",
     "output_type": "stream",
     "text": [
      "chris\n",
      "chr\n"
     ]
    }
   ],
   "source": [
    "name = 'chr'\n",
    "\n",
    "def add_chars(s):\n",
    "    s += 'is'\n",
    "    print(s)\n",
    "add_chars(name)\n",
    "print(name)"
   ]
  },
  {
   "cell_type": "markdown",
   "metadata": {},
   "source": [
    "Mutable objects likelist are call-by-reference. Notice how the list defined outside the function was modified inside the function. The parameter in the function pointed to the orginal block in memory that stored the value of li."
   ]
  },
  {
   "cell_type": "code",
   "execution_count": 16,
   "metadata": {},
   "outputs": [
    {
     "name": "stdout",
     "output_type": "stream",
     "text": [
      "[1, 2, 3]\n",
      "[1, 2, 3]\n"
     ]
    }
   ],
   "source": [
    "li = [1, 2]\n",
    "def add_element(seq):\n",
    "    seq.append(3)\n",
    "    print(seq)\n",
    "    \n",
    "add_element(li)\n",
    "print(li)"
   ]
  },
  {
   "cell_type": "markdown",
   "metadata": {},
   "source": [
    "### 13.How to reverse a list?"
   ]
  },
  {
   "cell_type": "markdown",
   "metadata": {},
   "source": [
    "Note how to reverse() is called on the list and mutates it. It doesn't return the mutataed list itself."
   ]
  },
  {
   "cell_type": "code",
   "execution_count": 19,
   "metadata": {},
   "outputs": [
    {
     "name": "stdout",
     "output_type": "stream",
     "text": [
      "['a', 'b', 'c']\n",
      "['c', 'b', 'a']\n"
     ]
    }
   ],
   "source": [
    "li = ['a', 'b', 'c']\n",
    "print(li)\n",
    "li.reverse()\n",
    "print(li)"
   ]
  },
  {
   "cell_type": "markdown",
   "metadata": {},
   "source": [
    "### 14.How does string multiplication work?\n",
    "Let's see the results of multiplying the string 'cat' by 3."
   ]
  },
  {
   "cell_type": "code",
   "execution_count": 20,
   "metadata": {},
   "outputs": [
    {
     "data": {
      "text/plain": [
       "'catcatcat'"
      ]
     },
     "execution_count": 20,
     "metadata": {},
     "output_type": "execute_result"
    }
   ],
   "source": [
    "'cat' * 3"
   ]
  },
  {
   "cell_type": "markdown",
   "metadata": {},
   "source": [
    "### 15.How does list multiplication work?\n",
    "Let's see the result of multiplying a list, [1, 2, 3] by 2."
   ]
  },
  {
   "cell_type": "code",
   "execution_count": 21,
   "metadata": {},
   "outputs": [
    {
     "data": {
      "text/plain": [
       "[1, 2, 3, 1, 2, 3]"
      ]
     },
     "execution_count": 21,
     "metadata": {},
     "output_type": "execute_result"
    }
   ],
   "source": [
    "[1, 2, 3] * 2"
   ]
  },
  {
   "cell_type": "markdown",
   "metadata": {},
   "source": [
    "A list is outputted containing the contents of [1, 2, 3] repeated twice."
   ]
  },
  {
   "cell_type": "markdown",
   "metadata": {},
   "source": [
    "### 16.What does \"self\" refer to in a class?"
   ]
  },
  {
   "cell_type": "markdown",
   "metadata": {},
   "source": [
    "Self refers to the instance of the class itself. It's how we give methods access to and the ability to update the object they belong to."
   ]
  },
  {
   "cell_type": "markdown",
   "metadata": {},
   "source": [
    "Below, passing self to $__init__()$ gives us the ability to set the __color__ of an instance on initialization"
   ]
  },
  {
   "cell_type": "code",
   "execution_count": 25,
   "metadata": {},
   "outputs": [
    {
     "data": {
      "text/plain": [
       "'yellow'"
      ]
     },
     "execution_count": 25,
     "metadata": {},
     "output_type": "execute_result"
    }
   ],
   "source": [
    "class Shirt:\n",
    "    def __init__(self, color):\n",
    "        self.color = color\n",
    "s = Shirt('yellow')\n",
    "s.color"
   ]
  },
  {
   "cell_type": "markdown",
   "metadata": {},
   "source": [
    "### 17.How can you concatenate listd in python?"
   ]
  },
  {
   "cell_type": "markdown",
   "metadata": {},
   "source": [
    "Adding 2 lists together concatinates them. Note that arrays  do not function the same way."
   ]
  },
  {
   "cell_type": "code",
   "execution_count": 26,
   "metadata": {},
   "outputs": [
    {
     "data": {
      "text/plain": [
       "[1, 2, 3, 4, 5]"
      ]
     },
     "execution_count": 26,
     "metadata": {},
     "output_type": "execute_result"
    }
   ],
   "source": [
    "a = [1, 2]\n",
    "b = [3, 4, 5]\n",
    "\n",
    "a+b"
   ]
  },
  {
   "cell_type": "code",
   "execution_count": 27,
   "metadata": {},
   "outputs": [
    {
     "data": {
      "text/plain": [
       "[1, 2, 4, 3, 4, 5]"
      ]
     },
     "execution_count": 27,
     "metadata": {},
     "output_type": "execute_result"
    }
   ],
   "source": [
    "a = [1, 2, 4]\n",
    "b = [3, 4, 5]\n",
    "a+b"
   ]
  },
  {
   "cell_type": "markdown",
   "metadata": {},
   "source": [
    "### 18.What is the difference between a shallow and a deep copy?"
   ]
  },
  {
   "cell_type": "markdown",
   "metadata": {},
   "source": [
    "a) __Reference the orginal object__.This points a new name, __li2__, to the same place in memeory to which __li1__ points. So any change we make to __li1__ also occurs to __li2__."
   ]
  },
  {
   "cell_type": "code",
   "execution_count": 28,
   "metadata": {},
   "outputs": [
    {
     "name": "stdout",
     "output_type": "stream",
     "text": [
      "[['a'], ['b'], ['c'], ['d']]\n"
     ]
    }
   ],
   "source": [
    "li1 = [['a'], ['b'], ['c']]\n",
    "li2 = li1\n",
    "\n",
    "li1.append(['d'])\n",
    "print(li2)"
   ]
  },
  {
   "cell_type": "markdown",
   "metadata": {},
   "source": [
    "b) __Create a shallow copy of the original__. We can do this with the __lis()__ constructor. A shallow copy creates a new object, but fills it with references to the original. So adding a new object to the original collection, __li3__, doesn't propagate to __li4__, but modifying one of the objects in __li3__ will propagate to __li4__."
   ]
  },
  {
   "cell_type": "code",
   "execution_count": 30,
   "metadata": {},
   "outputs": [
    {
     "name": "stdout",
     "output_type": "stream",
     "text": [
      "[['a'], ['b'], ['c']]\n",
      "[[['x']], ['b'], ['c']]\n"
     ]
    }
   ],
   "source": [
    "li3 = [['a'], ['b'], ['c']]\n",
    "li4 = list(li3)\n",
    "\n",
    "li3.append([4])\n",
    "print(li4)\n",
    "li3[0][0] = ['x']\n",
    "print(li4)\n"
   ]
  },
  {
   "cell_type": "markdown",
   "metadata": {},
   "source": [
    "=> modification to the first list will reflect on the 2nd list but what ever u appened to the first list wont affect the 2nd."
   ]
  },
  {
   "cell_type": "markdown",
   "metadata": {},
   "source": [
    "c) __Create a deep copy__. This is done with __copy.deepcopy()__. The 2 objects are now completely independent and changes to either have no affect on the other."
   ]
  },
  {
   "cell_type": "code",
   "execution_count": 31,
   "metadata": {},
   "outputs": [
    {
     "name": "stdout",
     "output_type": "stream",
     "text": [
      "[['a'], ['b'], ['c']]\n"
     ]
    }
   ],
   "source": [
    "import copy\n",
    "li5 = [['a'], ['b'], ['c']]\n",
    "li6 = copy.deepcopy(li5)\n",
    "\n",
    "li5.append([4])\n",
    "li5[0][0] = ['x']\n",
    "print(li6)"
   ]
  },
  {
   "cell_type": "markdown",
   "metadata": {},
   "source": [
    "### 19.What is the difference between lists an darrays?"
   ]
  },
  {
   "cell_type": "markdown",
   "metadata": {},
   "source": [
    "__Note__: Python libraray has an array object but here we r specifically referring to the commonly used Numpy array.\n"
   ]
  },
  {
   "cell_type": "markdown",
   "metadata": {},
   "source": [
    " __.__ Lists exist in python's standard library.Arrays are defined by Numpy.<br>\n",
    " __.__ Lists can be populated with different types of data at each\n",
    " index. Arrays require homogeneous elements.<br>\n",
    " __.__ Arithmetic on lists adds or removes elements from the list. Arithmetic on arrays functions per linear algebra.<br>\n",
    " __.__ Arrays also use less memory and come with significantly more functionality."
   ]
  },
  {
   "cell_type": "markdown",
   "metadata": {},
   "source": [
    "### 20.How to concatenate two arrays?"
   ]
  },
  {
   "cell_type": "markdown",
   "metadata": {},
   "source": [
    "Arrays are from Numpy and arithmetic functions like linear algebra. We need to use Numpy's concatenate function to do it."
   ]
  },
  {
   "cell_type": "code",
   "execution_count": 32,
   "metadata": {},
   "outputs": [
    {
     "data": {
      "text/plain": [
       "array([1, 2, 3, 4, 5, 6])"
      ]
     },
     "execution_count": 32,
     "metadata": {},
     "output_type": "execute_result"
    }
   ],
   "source": [
    "import numpy as np\n",
    "a = np.array([1, 2, 3])\n",
    "b = np.array([4, 5, 6])\n",
    "\n",
    "np.concatenate((a, b))\n"
   ]
  },
  {
   "cell_type": "code",
   "execution_count": 34,
   "metadata": {},
   "outputs": [
    {
     "data": {
      "text/plain": [
       "array([8, 2, 3, 4, 4, 5, 6])"
      ]
     },
     "execution_count": 34,
     "metadata": {},
     "output_type": "execute_result"
    }
   ],
   "source": [
    "c = np.array([8, 2, 3, 4])\n",
    "d = np.array([4, 5, 6])\n",
    "\n",
    "np.concatenate((c, d))"
   ]
  },
  {
   "cell_type": "markdown",
   "metadata": {},
   "source": [
    "### 21. What do you like about Python?"
   ]
  },
  {
   "cell_type": "markdown",
   "metadata": {},
   "source": [
    "https://learn.onemonth.com/ruby-vs-python/"
   ]
  },
  {
   "cell_type": "markdown",
   "metadata": {},
   "source": [
    "a language that’s more widely applicable and proficient with handing data analytics.<br>code is simple, it can be read easily.<br> developers can  quickly understand the code written by other developers.<br>everything visible to the programmer.<br> Python has a big advantage when it comes to learning to code and debugging problems efficiently.<br> Python can function with many languages."
   ]
  },
  {
   "cell_type": "markdown",
   "metadata": {},
   "source": [
    "### 22.What is your favorite library in Python?"
   ]
  },
  {
   "cell_type": "code",
   "execution_count": null,
   "metadata": {},
   "outputs": [],
   "source": [
    "Check pandas"
   ]
  },
  {
   "cell_type": "markdown",
   "metadata": {},
   "source": [
    "### 23.Name mutable and immutable objects."
   ]
  },
  {
   "cell_type": "markdown",
   "metadata": {},
   "source": [
    "__Immutable__ means the state cannot be modifies after creation.<br>Example - int, float, bool, string and tuple.\n",
    "__Mutable means__ the state can be modified after creation.<br> Examples - list, dict and set."
   ]
  },
  {
   "cell_type": "markdown",
   "metadata": {},
   "source": [
    "### 24.How would you round a number to 3 decimal places?"
   ]
  },
  {
   "cell_type": "markdown",
   "metadata": {},
   "source": [
    "Use the round(value, decimal_places)function."
   ]
  },
  {
   "cell_type": "code",
   "execution_count": 1,
   "metadata": {},
   "outputs": [
    {
     "data": {
      "text/plain": [
       "5.123"
      ]
     },
     "execution_count": 1,
     "metadata": {},
     "output_type": "execute_result"
    }
   ],
   "source": [
    "a = 5.12345\n",
    "round(a, 3)"
   ]
  },
  {
   "cell_type": "code",
   "execution_count": 2,
   "metadata": {},
   "outputs": [
    {
     "data": {
      "text/plain": [
       "5.123"
      ]
     },
     "execution_count": 2,
     "metadata": {},
     "output_type": "execute_result"
    }
   ],
   "source": [
    "a = 5.12345\n",
    "round(5.12345, 3)"
   ]
  },
  {
   "cell_type": "markdown",
   "metadata": {},
   "source": [
    "### 25.How do you Slice a list?"
   ]
  },
  {
   "cell_type": "markdown",
   "metadata": {},
   "source": [
    "Slicing notation takes 3 arguments, __list[start:stop:step]__, where step is the interval at which elements are returned."
   ]
  },
  {
   "cell_type": "code",
   "execution_count": 3,
   "metadata": {},
   "outputs": [
    {
     "name": "stdout",
     "output_type": "stream",
     "text": [
      "[0, 1]\n"
     ]
    }
   ],
   "source": [
    "a = [0, 1, 2, 3, 4, 5, 6, 7, 8, 9]\n",
    "print(a[:2])"
   ]
  },
  {
   "cell_type": "markdown",
   "metadata": {},
   "source": [
    "if we don't specify the starting index position by default it starts from 0.<br>but the ending index position is not included, like in the example above index position 2 is not included.\n"
   ]
  },
  {
   "cell_type": "code",
   "execution_count": 4,
   "metadata": {},
   "outputs": [
    {
     "name": "stdout",
     "output_type": "stream",
     "text": [
      "[8, 9]\n"
     ]
    }
   ],
   "source": [
    "print(a[8:])"
   ]
  },
  {
   "cell_type": "markdown",
   "metadata": {},
   "source": [
    "same goes here since we didn't specify the ending it included the rest of index position."
   ]
  },
  {
   "cell_type": "code",
   "execution_count": 5,
   "metadata": {},
   "outputs": [
    {
     "name": "stdout",
     "output_type": "stream",
     "text": [
      "[2, 3, 4, 5, 6, 7]\n"
     ]
    }
   ],
   "source": [
    "print(a[2:8])"
   ]
  },
  {
   "cell_type": "code",
   "execution_count": 6,
   "metadata": {},
   "outputs": [
    {
     "name": "stdout",
     "output_type": "stream",
     "text": [
      "[2, 4, 6]\n"
     ]
    }
   ],
   "source": [
    "print(a[2:8:2])"
   ]
  },
  {
   "cell_type": "markdown",
   "metadata": {},
   "source": [
    "Here it started with the 2nd index, stopped at the 8th index and with 2 steps interval."
   ]
  },
  {
   "cell_type": "markdown",
   "metadata": {},
   "source": [
    "### 26.What is pickling?"
   ]
  },
  {
   "cell_type": "markdown",
   "metadata": {},
   "source": [
    "__.__Pickle in Python is primarily used in serializing and deserializing a Python object structure.<br> __.__It’s the process of converting a Python object into a byte stream (pickle module serializes data in the binary format)to store it in a file/database, maintain program state across sessions, or transport data over the network.<br>__.__The pickled byte stream can be used to re-create the original object hierarchy by unpickling the stream."
   ]
  },
  {
   "cell_type": "code",
   "execution_count": 15,
   "metadata": {},
   "outputs": [
    {
     "name": "stdout",
     "output_type": "stream",
     "text": [
      "[{'id': 1, 'name': 'Maleda'}, {'id': 2, 'name': 'Preeti'}]\n"
     ]
    }
   ],
   "source": [
    "import pickle\n",
    "obj = [\n",
    "    {'id':1, 'name':'Maleda'},\n",
    "    {'id':2, 'name':'Preeti'}\n",
    "]\n",
    "\n",
    "with open('file.p', 'wb') as f:\n",
    "    pickle.dump(obj, f)\n",
    "    \n",
    "with open('file.p', 'rb') as f:\n",
    "    loaded_obj = pickle.load(f)\n",
    "    \n",
    "print(loaded_obj)"
   ]
  },
  {
   "cell_type": "markdown",
   "metadata": {},
   "source": [
    "### 27.What is the difference between dictionaries and json?"
   ]
  },
  {
   "cell_type": "markdown",
   "metadata": {},
   "source": [
    "__Dict__ is python data type, a collection of indexed but unordered keys and values.<br>__JSON__ is just a string which follows a specified format and is intended for transfering data."
   ]
  },
  {
   "cell_type": "markdown",
   "metadata": {},
   "source": [
    "### 28.What ORMs have you used in Python?"
   ]
  },
  {
   "cell_type": "markdown",
   "metadata": {},
   "source": [
    "__ORMs__(object relational mapper) map data models (usually in an app) to database tables and simplifies database transactions.<br> __SQLAlchemy__ is typically used in the context of flask, and Django has it's own ORM."
   ]
  },
  {
   "cell_type": "markdown",
   "metadata": {},
   "source": [
    "### 29.How do any() and all() work?"
   ]
  },
  {
   "cell_type": "markdown",
   "metadata": {},
   "source": [
    "__Any__ takes a sequence and returns true if any element in the sequence is true.<br>__All__ returns true only if all elements in the sequence are true."
   ]
  },
  {
   "cell_type": "code",
   "execution_count": 20,
   "metadata": {
    "scrolled": true
   },
   "outputs": [
    {
     "name": "stdout",
     "output_type": "stream",
     "text": [
      "False\n",
      "True\n",
      "True\n",
      "False\n",
      "False\n",
      "True\n"
     ]
    }
   ],
   "source": [
    "a = [False, False, False]\n",
    "b = [True, False, False]\n",
    "c = [True, True, True]\n",
    "\n",
    "print( any(a) )\n",
    "print( any(b) )\n",
    "print( any(c) )\n",
    "\n",
    "print( all(a) )\n",
    "print( all(b) )\n",
    "print( all(c) )"
   ]
  },
  {
   "cell_type": "markdown",
   "metadata": {},
   "source": [
    "### 30.Are dictionaries or lists faster for lookups?"
   ]
  },
  {
   "cell_type": "markdown",
   "metadata": {},
   "source": [
    "Looking up a value in a __list__ takes __o(n)__ times because the whole list needs to be iterated through wntil the valuse is found.<br> Looking up a key in a __dictionary__ takes __o(1)__ time because it's a hash table.<br> This can make a huge time difference if the area lot of values, so dictionaries are generally recommended for speed. But they do have other limmitations like needing unique keys."
   ]
  },
  {
   "cell_type": "markdown",
   "metadata": {},
   "source": [
    "### 31.What is the difference between a module and a package?"
   ]
  },
  {
   "cell_type": "markdown",
   "metadata": {},
   "source": [
    "A module is a file(or collection of files) that can be imported together."
   ]
  },
  {
   "cell_type": "code",
   "execution_count": 22,
   "metadata": {},
   "outputs": [],
   "source": [
    "import sklearn"
   ]
  },
  {
   "cell_type": "markdown",
   "metadata": {},
   "source": [
    "A package is a directory of modules."
   ]
  },
  {
   "cell_type": "raw",
   "metadata": {},
   "source": [
    "from sklearn import cross_validation"
   ]
  },
  {
   "cell_type": "markdown",
   "metadata": {},
   "source": [
    "So packages are modules, but not all modules are packages."
   ]
  },
  {
   "cell_type": "markdown",
   "metadata": {},
   "source": [
    "### 32.How to increment and decrement an integer in Python?"
   ]
  },
  {
   "cell_type": "markdown",
   "metadata": {},
   "source": [
    "Increment and decrement can be done with __+-__ and __-=__."
   ]
  },
  {
   "cell_type": "code",
   "execution_count": 27,
   "metadata": {},
   "outputs": [
    {
     "name": "stdout",
     "output_type": "stream",
     "text": [
      "6\n"
     ]
    }
   ],
   "source": [
    "value = 5\n",
    "\n",
    "value +=1\n",
    "print(value)"
   ]
  },
  {
   "cell_type": "code",
   "execution_count": 28,
   "metadata": {},
   "outputs": [
    {
     "name": "stdout",
     "output_type": "stream",
     "text": [
      "4\n"
     ]
    }
   ],
   "source": [
    "value -= 1\n",
    "value -= 1\n",
    "print(value)"
   ]
  },
  {
   "cell_type": "markdown",
   "metadata": {},
   "source": [
    "### 33.How to return the binary of an integer?"
   ]
  },
  {
   "cell_type": "markdown",
   "metadata": {},
   "source": [
    "\n",
    "Use the __bin()__ function."
   ]
  },
  {
   "cell_type": "code",
   "execution_count": 29,
   "metadata": {},
   "outputs": [
    {
     "data": {
      "text/plain": [
       "'0b101'"
      ]
     },
     "execution_count": 29,
     "metadata": {},
     "output_type": "execute_result"
    }
   ],
   "source": [
    "bin(5)"
   ]
  },
  {
   "cell_type": "markdown",
   "metadata": {},
   "source": [
    "### 34.How to remove duplicate elements from a list."
   ]
  },
  {
   "cell_type": "markdown",
   "metadata": {},
   "source": [
    "This can be done by converting the __list__ to a __set__ then back to a __list__."
   ]
  },
  {
   "cell_type": "code",
   "execution_count": 30,
   "metadata": {},
   "outputs": [
    {
     "name": "stdout",
     "output_type": "stream",
     "text": [
      "[1, 2, 3]\n"
     ]
    }
   ],
   "source": [
    "a = [1, 1, 1, 2, 3]\n",
    "a = list(set(a))\n",
    "print(a)"
   ]
  },
  {
   "cell_type": "code",
   "execution_count": 33,
   "metadata": {},
   "outputs": [
    {
     "name": "stdout",
     "output_type": "stream",
     "text": [
      "{1, 2, 3, 4}\n"
     ]
    }
   ],
   "source": [
    "a = [4, 1, 1, 1, 2, 3]\n",
    "a = set(a)\n",
    "print(a)"
   ]
  },
  {
   "cell_type": "code",
   "execution_count": 34,
   "metadata": {},
   "outputs": [
    {
     "name": "stdout",
     "output_type": "stream",
     "text": [
      "[1, 2, 3, 4]\n"
     ]
    }
   ],
   "source": [
    "a = list(a)\n",
    "print(a)"
   ]
  },
  {
   "cell_type": "markdown",
   "metadata": {},
   "source": [
    "Note that sets will not necessarily maintain the order of a list."
   ]
  },
  {
   "cell_type": "markdown",
   "metadata": {},
   "source": [
    "### 35.How to check if a value exists in a list?"
   ]
  },
  {
   "cell_type": "markdown",
   "metadata": {},
   "source": [
    "We use __in__."
   ]
  },
  {
   "cell_type": "code",
   "execution_count": 35,
   "metadata": {},
   "outputs": [
    {
     "data": {
      "text/plain": [
       "True"
      ]
     },
     "execution_count": 35,
     "metadata": {},
     "output_type": "execute_result"
    }
   ],
   "source": [
    "'a' in ['a', 'b', 'c']\n"
   ]
  },
  {
   "cell_type": "code",
   "execution_count": 36,
   "metadata": {},
   "outputs": [
    {
     "data": {
      "text/plain": [
       "False"
      ]
     },
     "execution_count": 36,
     "metadata": {},
     "output_type": "execute_result"
    }
   ],
   "source": [
    "'a' in [1, 2, 3]"
   ]
  },
  {
   "cell_type": "markdown",
   "metadata": {},
   "source": [
    "### 36.What is the difference between append and extend?"
   ]
  },
  {
   "cell_type": "markdown",
   "metadata": {},
   "source": [
    "__Append__ adds a value to a list while __extend__ adds values in another list to a list."
   ]
  },
  {
   "cell_type": "code",
   "execution_count": 42,
   "metadata": {},
   "outputs": [
    {
     "name": "stdout",
     "output_type": "stream",
     "text": [
      "[1, 2, 3, 6]\n"
     ]
    }
   ],
   "source": [
    "a = [1, 2, 3]\n",
    "b = [1, 2, 3]\n",
    "\n",
    "a.append(6)\n",
    "print(a)"
   ]
  },
  {
   "cell_type": "code",
   "execution_count": 43,
   "metadata": {},
   "outputs": [
    {
     "name": "stdout",
     "output_type": "stream",
     "text": [
      "[1, 2, 3, 4, 5]\n"
     ]
    }
   ],
   "source": [
    "b.extend([4,5])\n",
    "print(b)"
   ]
  },
  {
   "cell_type": "code",
   "execution_count": 44,
   "metadata": {},
   "outputs": [
    {
     "name": "stdout",
     "output_type": "stream",
     "text": [
      "[1, 2, 3, 6, [4, 5]]\n",
      "[1, 2, 3, 4, 5, 4, 5]\n"
     ]
    }
   ],
   "source": [
    "a.append([4,5])\n",
    "print(a)\n",
    "b.extend([4,5])\n",
    "print(b)"
   ]
  },
  {
   "cell_type": "markdown",
   "metadata": {},
   "source": [
    "### 37.How to take an absolute value of an integer?"
   ]
  },
  {
   "cell_type": "markdown",
   "metadata": {},
   "source": [
    "This can be done with __abs()__ function."
   ]
  },
  {
   "cell_type": "code",
   "execution_count": 45,
   "metadata": {},
   "outputs": [
    {
     "data": {
      "text/plain": [
       "3"
      ]
     },
     "execution_count": 45,
     "metadata": {},
     "output_type": "execute_result"
    }
   ],
   "source": [
    "abs(-3)"
   ]
  },
  {
   "cell_type": "code",
   "execution_count": 46,
   "metadata": {},
   "outputs": [
    {
     "data": {
      "text/plain": [
       "2"
      ]
     },
     "execution_count": 46,
     "metadata": {},
     "output_type": "execute_result"
    }
   ],
   "source": [
    "abs(2)"
   ]
  },
  {
   "cell_type": "markdown",
   "metadata": {},
   "source": [
    "### 38.How can you sort a dictionary by key alphabetically?"
   ]
  },
  {
   "cell_type": "markdown",
   "metadata": {},
   "source": [
    "You can't __\"sort\"__ a dictionary because dictionaries don't have order but you can return a __sorted list__ of __tuples__ which has the keys and values that are in the dictionary."
   ]
  },
  {
   "cell_type": "code",
   "execution_count": 47,
   "metadata": {},
   "outputs": [
    {
     "data": {
      "text/plain": [
       "[('a', 1), ('b', 2), ('c', 3), ('d', 4)]"
      ]
     },
     "execution_count": 47,
     "metadata": {},
     "output_type": "execute_result"
    }
   ],
   "source": [
    "d = {'c':3, 'd':4, 'b':2, 'a':1}\n",
    "sorted(d.items())"
   ]
  },
  {
   "cell_type": "markdown",
   "metadata": {},
   "source": [
    "### 39.How to combine two lists into a list of tuples?"
   ]
  },
  {
   "cell_type": "code",
   "execution_count": 49,
   "metadata": {},
   "outputs": [
    {
     "data": {
      "text/plain": [
       "[('a', 1), ('b', 2), ('c', 3)]"
      ]
     },
     "execution_count": 49,
     "metadata": {},
     "output_type": "execute_result"
    }
   ],
   "source": [
    "a = ['a', 'b', 'c']\n",
    "b = [1, 2, 3]\n",
    "\n",
    "[(a,b) for a,b in zip(a, b)]"
   ]
  },
  {
   "cell_type": "code",
   "execution_count": 50,
   "metadata": {},
   "outputs": [
    {
     "data": {
      "text/plain": [
       "[('a', 1, 'loco'), ('b', 2, 'coco'), ('c', 3, 'hawk')]"
      ]
     },
     "execution_count": 50,
     "metadata": {},
     "output_type": "execute_result"
    }
   ],
   "source": [
    "a = ['a', 'b', 'c']\n",
    "b = [1, 2, 3]\n",
    "c = ['loco', 'coco', 'hawk']\n",
    "[(a,b, c) for a,b,c in zip(a, b, c)]"
   ]
  },
  {
   "cell_type": "code",
   "execution_count": 51,
   "metadata": {},
   "outputs": [
    {
     "data": {
      "text/plain": [
       "[('a', 1, 'loco'), ('b', 2, 'coco')]"
      ]
     },
     "execution_count": 51,
     "metadata": {},
     "output_type": "execute_result"
    }
   ],
   "source": [
    "a = ['a', 'b', 'c']\n",
    "b = [1, 2, 3]\n",
    "c = ['loco', 'coco']\n",
    "[(a,b, c) for a,b,c in zip(a, b, c)]"
   ]
  },
  {
   "cell_type": "markdown",
   "metadata": {},
   "source": [
    "So in the last example it left out the last values because on element was missing."
   ]
  },
  {
   "cell_type": "markdown",
   "metadata": {},
   "source": [
    "### 40.How does a class inherit from another class in Python?"
   ]
  },
  {
   "cell_type": "markdown",
   "metadata": {},
   "source": [
    "In the example below, __Audi__, inherits from __Car__. And with that inheritence comes the instance methods of the parent class."
   ]
  },
  {
   "cell_type": "code",
   "execution_count": 55,
   "metadata": {},
   "outputs": [
    {
     "name": "stdout",
     "output_type": "stream",
     "text": [
      "vroom\n"
     ]
    }
   ],
   "source": [
    "class Car():\n",
    "    def drive(self):\n",
    "        print('vroom')\n",
    "\n",
    "class Audi(Car):\n",
    "    pass\n",
    "\n",
    "audi = Audi()\n",
    "audi.drive()"
   ]
  },
  {
   "cell_type": "markdown",
   "metadata": {},
   "source": [
    "### 41.How can you remove all whitespace from a string?"
   ]
  },
  {
   "cell_type": "code",
   "execution_count": null,
   "metadata": {},
   "outputs": [],
   "source": []
  }
 ],
 "metadata": {
  "kernelspec": {
   "display_name": "Python 3",
   "language": "python",
   "name": "python3"
  },
  "language_info": {
   "codemirror_mode": {
    "name": "ipython",
    "version": 3
   },
   "file_extension": ".py",
   "mimetype": "text/x-python",
   "name": "python",
   "nbconvert_exporter": "python",
   "pygments_lexer": "ipython3",
   "version": "3.7.4"
  }
 },
 "nbformat": 4,
 "nbformat_minor": 4
}
